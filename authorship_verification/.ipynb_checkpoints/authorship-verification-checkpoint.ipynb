{
 "cells": [
  {
   "cell_type": "code",
   "execution_count": 409,
   "metadata": {},
   "outputs": [],
   "source": [
    "import pandas as pd\n",
    "import seaborn as sns\n",
    "from matplotlib import pyplot as plt\n",
    "from collections import defaultdict\n",
    "\n",
    "sns.set()"
   ]
  },
  {
   "cell_type": "code",
   "execution_count": 410,
   "metadata": {},
   "outputs": [
    {
     "data": {
      "text/html": [
       "<div>\n",
       "<style scoped>\n",
       "    .dataframe tbody tr th:only-of-type {\n",
       "        vertical-align: middle;\n",
       "    }\n",
       "\n",
       "    .dataframe tbody tr th {\n",
       "        vertical-align: top;\n",
       "    }\n",
       "\n",
       "    .dataframe thead th {\n",
       "        text-align: right;\n",
       "    }\n",
       "</style>\n",
       "<table border=\"1\" class=\"dataframe\">\n",
       "  <thead>\n",
       "    <tr style=\"text-align: right;\">\n",
       "      <th></th>\n",
       "      <th>name</th>\n",
       "      <th>language</th>\n",
       "    </tr>\n",
       "  </thead>\n",
       "  <tbody>\n",
       "    <tr>\n",
       "      <th>0</th>\n",
       "      <td>araujo20</td>\n",
       "      <td>Python</td>\n",
       "    </tr>\n",
       "    <tr>\n",
       "      <th>1</th>\n",
       "      <td>boenninghoff20</td>\n",
       "      <td>Python</td>\n",
       "    </tr>\n",
       "    <tr>\n",
       "      <th>2</th>\n",
       "      <td>faber20</td>\n",
       "      <td>Python</td>\n",
       "    </tr>\n",
       "    <tr>\n",
       "      <th>3</th>\n",
       "      <td>gagala20</td>\n",
       "      <td>Python</td>\n",
       "    </tr>\n",
       "    <tr>\n",
       "      <th>4</th>\n",
       "      <td>halvani20</td>\n",
       "      <td>Python</td>\n",
       "    </tr>\n",
       "    <tr>\n",
       "      <th>5</th>\n",
       "      <td>kipnis20</td>\n",
       "      <td>Python</td>\n",
       "    </tr>\n",
       "    <tr>\n",
       "      <th>6</th>\n",
       "      <td>niven20</td>\n",
       "      <td>Python</td>\n",
       "    </tr>\n",
       "    <tr>\n",
       "      <th>7</th>\n",
       "      <td>ordonez20</td>\n",
       "      <td>Python</td>\n",
       "    </tr>\n",
       "    <tr>\n",
       "      <th>8</th>\n",
       "      <td>weerasinghe20</td>\n",
       "      <td>Python</td>\n",
       "    </tr>\n",
       "  </tbody>\n",
       "</table>\n",
       "</div>"
      ],
      "text/plain": [
       "             name language\n",
       "0        araujo20   Python\n",
       "1  boenninghoff20   Python\n",
       "2         faber20   Python\n",
       "3        gagala20   Python\n",
       "4       halvani20   Python\n",
       "5        kipnis20   Python\n",
       "6         niven20   Python\n",
       "7       ordonez20   Python\n",
       "8   weerasinghe20   Python"
      ]
     },
     "execution_count": 410,
     "metadata": {},
     "output_type": "execute_result"
    }
   ],
   "source": [
    "# read csv containing programming languages\n",
    "languages_df = pd.read_csv(\"authorship-verification-languages.csv\").drop(columns=['Unnamed: 0'])\n",
    "languages_df.head(9)"
   ]
  },
  {
   "cell_type": "code",
   "execution_count": 411,
   "metadata": {},
   "outputs": [
    {
     "data": {
      "text/html": [
       "<div>\n",
       "<style scoped>\n",
       "    .dataframe tbody tr th:only-of-type {\n",
       "        vertical-align: middle;\n",
       "    }\n",
       "\n",
       "    .dataframe tbody tr th {\n",
       "        vertical-align: top;\n",
       "    }\n",
       "\n",
       "    .dataframe thead th {\n",
       "        text-align: right;\n",
       "    }\n",
       "</style>\n",
       "<table border=\"1\" class=\"dataframe\">\n",
       "  <thead>\n",
       "    <tr style=\"text-align: right;\">\n",
       "      <th></th>\n",
       "      <th>language</th>\n",
       "      <th>count</th>\n",
       "    </tr>\n",
       "  </thead>\n",
       "  <tbody>\n",
       "    <tr>\n",
       "      <th>0</th>\n",
       "      <td>Python</td>\n",
       "      <td>9</td>\n",
       "    </tr>\n",
       "  </tbody>\n",
       "</table>\n",
       "</div>"
      ],
      "text/plain": [
       "  language  count\n",
       "0   Python      9"
      ]
     },
     "execution_count": 411,
     "metadata": {},
     "output_type": "execute_result"
    }
   ],
   "source": [
    "# count programming languages and rename columns\n",
    "languages_df = languages_df['language'].value_counts().to_frame().reset_index().rename(columns={'index': 'language', 'language': 'count'})[:10]\n",
    "languages_df.head(10)"
   ]
  },
  {
   "cell_type": "code",
   "execution_count": 412,
   "metadata": {},
   "outputs": [],
   "source": [
    "# show distribution of used programming languages\n",
    "# plt.figure(figsize=(20,10))\n",
    "# ax = sns.barplot(data=languages_df, x='language', y='count', orient='v')\n",
    "# ax.set_title('Language distribution')\n",
    "# ax.set_xlabel('Language')\n",
    "# ax.set_ylabel('Number of submitted solutions')\n",
    "# plt.show()"
   ]
  },
  {
   "cell_type": "code",
   "execution_count": 413,
   "metadata": {},
   "outputs": [
    {
     "data": {
      "text/html": [
       "<div>\n",
       "<style scoped>\n",
       "    .dataframe tbody tr th:only-of-type {\n",
       "        vertical-align: middle;\n",
       "    }\n",
       "\n",
       "    .dataframe tbody tr th {\n",
       "        vertical-align: top;\n",
       "    }\n",
       "\n",
       "    .dataframe thead th {\n",
       "        text-align: right;\n",
       "    }\n",
       "</style>\n",
       "<table border=\"1\" class=\"dataframe\">\n",
       "  <thead>\n",
       "    <tr style=\"text-align: right;\">\n",
       "      <th></th>\n",
       "      <th>name</th>\n",
       "      <th>imports</th>\n",
       "    </tr>\n",
       "  </thead>\n",
       "  <tbody>\n",
       "    <tr>\n",
       "      <th>0</th>\n",
       "      <td>araujo20</td>\n",
       "      <td>argparse, ujson, os, glob, shutil, numpy, skle...</td>\n",
       "    </tr>\n",
       "    <tr>\n",
       "      <th>1</th>\n",
       "      <td>boenninghoff20</td>\n",
       "      <td>warnings, tensorflow, numpy, textacy.preproces...</td>\n",
       "    </tr>\n",
       "    <tr>\n",
       "      <th>2</th>\n",
       "      <td>faber20</td>\n",
       "      <td>os, pickle, argparse, json, tqdm, numpy, tenso...</td>\n",
       "    </tr>\n",
       "    <tr>\n",
       "      <th>3</th>\n",
       "      <td>gagala20</td>\n",
       "      <td>os, jsonlines, math, re, json, pathos.pools, p...</td>\n",
       "    </tr>\n",
       "    <tr>\n",
       "      <th>4</th>\n",
       "      <td>halvani20</td>\n",
       "      <td>os, re, shutil, disutils.core, numpy, spacy, s...</td>\n",
       "    </tr>\n",
       "    <tr>\n",
       "      <th>5</th>\n",
       "      <td>kipnis20</td>\n",
       "      <td>__future__, os, json, argparse, joblib, sys, n...</td>\n",
       "    </tr>\n",
       "    <tr>\n",
       "      <th>6</th>\n",
       "      <td>niven20</td>\n",
       "      <td>argparse, os, importlib, tqdm.notebook, torch....</td>\n",
       "    </tr>\n",
       "    <tr>\n",
       "      <th>7</th>\n",
       "      <td>ordonez20</td>\n",
       "      <td>os, sys, torch, torch.nn, pytorch_lightning, a...</td>\n",
       "    </tr>\n",
       "    <tr>\n",
       "      <th>8</th>\n",
       "      <td>weerasinghe20</td>\n",
       "      <td>numpy, re, string, os.path, sklearn.feature_ex...</td>\n",
       "    </tr>\n",
       "  </tbody>\n",
       "</table>\n",
       "</div>"
      ],
      "text/plain": [
       "             name                                            imports\n",
       "0        araujo20  argparse, ujson, os, glob, shutil, numpy, skle...\n",
       "1  boenninghoff20  warnings, tensorflow, numpy, textacy.preproces...\n",
       "2         faber20  os, pickle, argparse, json, tqdm, numpy, tenso...\n",
       "3        gagala20  os, jsonlines, math, re, json, pathos.pools, p...\n",
       "4       halvani20  os, re, shutil, disutils.core, numpy, spacy, s...\n",
       "5        kipnis20  __future__, os, json, argparse, joblib, sys, n...\n",
       "6         niven20  argparse, os, importlib, tqdm.notebook, torch....\n",
       "7       ordonez20  os, sys, torch, torch.nn, pytorch_lightning, a...\n",
       "8   weerasinghe20  numpy, re, string, os.path, sklearn.feature_ex..."
      ]
     },
     "execution_count": 413,
     "metadata": {},
     "output_type": "execute_result"
    }
   ],
   "source": [
    "# read csv containing imports\n",
    "imports_df = pd.read_csv('authorship-verification-imports.csv').drop(columns=[\"Unnamed: 0\"])\n",
    "imports_df.head(9)"
   ]
  },
  {
   "cell_type": "code",
   "execution_count": 414,
   "metadata": {},
   "outputs": [],
   "source": [
    "# convert string into a list\n",
    "def convert(s):\n",
    "    return list(s.split(\", \"))"
   ]
  },
  {
   "cell_type": "code",
   "execution_count": 415,
   "metadata": {},
   "outputs": [
    {
     "data": {
      "text/html": [
       "<div>\n",
       "<style scoped>\n",
       "    .dataframe tbody tr th:only-of-type {\n",
       "        vertical-align: middle;\n",
       "    }\n",
       "\n",
       "    .dataframe tbody tr th {\n",
       "        vertical-align: top;\n",
       "    }\n",
       "\n",
       "    .dataframe thead th {\n",
       "        text-align: right;\n",
       "    }\n",
       "</style>\n",
       "<table border=\"1\" class=\"dataframe\">\n",
       "  <thead>\n",
       "    <tr style=\"text-align: right;\">\n",
       "      <th></th>\n",
       "      <th>name</th>\n",
       "      <th>imports</th>\n",
       "      <th>num_imports</th>\n",
       "    </tr>\n",
       "  </thead>\n",
       "  <tbody>\n",
       "    <tr>\n",
       "      <th>0</th>\n",
       "      <td>araujo20</td>\n",
       "      <td>[argparse, ujson, os, glob, shutil, numpy, skl...</td>\n",
       "      <td>13</td>\n",
       "    </tr>\n",
       "    <tr>\n",
       "      <th>1</th>\n",
       "      <td>boenninghoff20</td>\n",
       "      <td>[warnings, tensorflow, numpy, textacy.preproce...</td>\n",
       "      <td>9</td>\n",
       "    </tr>\n",
       "    <tr>\n",
       "      <th>2</th>\n",
       "      <td>faber20</td>\n",
       "      <td>[os, pickle, argparse, json, tqdm, numpy, tens...</td>\n",
       "      <td>23</td>\n",
       "    </tr>\n",
       "    <tr>\n",
       "      <th>3</th>\n",
       "      <td>gagala20</td>\n",
       "      <td>[os, jsonlines, math, re, json, pathos.pools, ...</td>\n",
       "      <td>10</td>\n",
       "    </tr>\n",
       "    <tr>\n",
       "      <th>4</th>\n",
       "      <td>halvani20</td>\n",
       "      <td>[os, re, shutil, disutils.core, numpy, spacy, ...</td>\n",
       "      <td>40</td>\n",
       "    </tr>\n",
       "    <tr>\n",
       "      <th>5</th>\n",
       "      <td>kipnis20</td>\n",
       "      <td>[__future__, os, json, argparse, joblib, sys, ...</td>\n",
       "      <td>25</td>\n",
       "    </tr>\n",
       "    <tr>\n",
       "      <th>6</th>\n",
       "      <td>niven20</td>\n",
       "      <td>[argparse, os, importlib, tqdm.notebook, torch...</td>\n",
       "      <td>43</td>\n",
       "    </tr>\n",
       "    <tr>\n",
       "      <th>7</th>\n",
       "      <td>ordonez20</td>\n",
       "      <td>[os, sys, torch, torch.nn, pytorch_lightning, ...</td>\n",
       "      <td>55</td>\n",
       "    </tr>\n",
       "    <tr>\n",
       "      <th>8</th>\n",
       "      <td>weerasinghe20</td>\n",
       "      <td>[numpy, re, string, os.path, sklearn.feature_e...</td>\n",
       "      <td>22</td>\n",
       "    </tr>\n",
       "  </tbody>\n",
       "</table>\n",
       "</div>"
      ],
      "text/plain": [
       "             name                                            imports  \\\n",
       "0        araujo20  [argparse, ujson, os, glob, shutil, numpy, skl...   \n",
       "1  boenninghoff20  [warnings, tensorflow, numpy, textacy.preproce...   \n",
       "2         faber20  [os, pickle, argparse, json, tqdm, numpy, tens...   \n",
       "3        gagala20  [os, jsonlines, math, re, json, pathos.pools, ...   \n",
       "4       halvani20  [os, re, shutil, disutils.core, numpy, spacy, ...   \n",
       "5        kipnis20  [__future__, os, json, argparse, joblib, sys, ...   \n",
       "6         niven20  [argparse, os, importlib, tqdm.notebook, torch...   \n",
       "7       ordonez20  [os, sys, torch, torch.nn, pytorch_lightning, ...   \n",
       "8   weerasinghe20  [numpy, re, string, os.path, sklearn.feature_e...   \n",
       "\n",
       "   num_imports  \n",
       "0           13  \n",
       "1            9  \n",
       "2           23  \n",
       "3           10  \n",
       "4           40  \n",
       "5           25  \n",
       "6           43  \n",
       "7           55  \n",
       "8           22  "
      ]
     },
     "execution_count": 415,
     "metadata": {},
     "output_type": "execute_result"
    }
   ],
   "source": [
    "# convert string and determine count of imports per solution\n",
    "imports_df['imports'] = imports_df['imports'].apply(convert)  # pandas messes with lists when converting to/from CSV\n",
    "imports_df['num_imports'] = imports_df['imports'].apply(len)\n",
    "imports_df.head(9)"
   ]
  },
  {
   "cell_type": "code",
   "execution_count": 416,
   "metadata": {},
   "outputs": [
    {
     "data": {
      "image/png": "[encoded data removed]",
      "text/plain": [
       "<Figure size 720x360 with 1 Axes>"
      ]
     },
     "metadata": {},
     "output_type": "display_data"
    }
   ],
   "source": [
    "# show distribution of the count of used imports per solution\n",
    "plt.figure(figsize=(10,5))\n",
    "plt.hist(imports_df[imports_df['num_imports'] != 0][imports_df['num_imports'] < 50]['num_imports'],\n",
    "         bins=48, density=False, log=False)\n",
    "plt.title('Distribution of imports number')\n",
    "plt.xlabel('Number of imports in a submitted solution')\n",
    "plt.ylabel('Number of sumbitted solutions')\n",
    "plt.show()"
   ]
  },
  {
   "cell_type": "code",
   "execution_count": 417,
   "metadata": {},
   "outputs": [],
   "source": [
    "# determine and count unique imports (built-ins included)\n",
    "imports_count = defaultdict(int)\n",
    "for imports in imports_df['imports']:\n",
    "    imports = set(lib.split('.')[0] for lib in imports)\n",
    "    for lib in imports:\n",
    "        imports_count[lib] = imports_count.get(lib, 0) + 1"
   ]
  },
  {
   "cell_type": "code",
   "execution_count": 418,
   "metadata": {},
   "outputs": [
    {
     "name": "stdout",
     "output_type": "stream",
     "text": [
      "Got 77 unique libraries\n"
     ]
    }
   ],
   "source": [
    "# sort unique imports (built-ins included)\n",
    "sorted_imports_count = sorted(imports_count.items(), key=lambda itm: itm[1], reverse=True)\n",
    "frequent_imports = list(x[0] for x in sorted_imports_count)\n",
    "print(f'Got {len(sorted_imports_count)} unique libraries')"
   ]
  },
  {
   "cell_type": "code",
   "execution_count": 419,
   "metadata": {},
   "outputs": [],
   "source": [
    "# create dataframe for sorted imports (built-ins included)\n",
    "sorted_imports_count = pd.DataFrame(sorted_imports_count, columns=['library', 'count'])"
   ]
  },
  {
   "cell_type": "code",
   "execution_count": 420,
   "metadata": {},
   "outputs": [
    {
     "data": {
      "image/png": "[encoded data removed]",
      "text/plain": [
       "<Figure size 1800x720 with 1 Axes>"
      ]
     },
     "metadata": {},
     "output_type": "display_data"
    }
   ],
   "source": [
    "# show distribution of imports per solution (built-ins included)\n",
    "plt.figure(figsize=(25,10))\n",
    "ax = sns.barplot(data=sorted_imports_count[:25], x='library', y='count', orient='v')\n",
    "ax.set_title('Most popular libraries (built-ins included)')\n",
    "ax.set_xlabel('Library')\n",
    "ax.set_ylabel('Number of submitted solcutions')\n",
    "plt.show()"
   ]
  },
  {
   "cell_type": "code",
   "execution_count": 421,
   "metadata": {},
   "outputs": [],
   "source": [
    "# list of built-in imports\n",
    "builtin_imports = list(set(['__future__', '__main__', '_dummy_thread', '_thread', 'abc', 'aifc', 'argparse', 'array', 'ast', 'asynchat', 'asyncio', 'asyncore', 'atexit', 'audioop', 'base64', 'bdb', 'binascii', 'binhex', 'bisect', 'builtins', 'bz2', 'cProfile', 'calendar', 'cgi', 'cgitb', 'chunk', 'cmath', 'cmd', 'code', 'codecs', 'codeop', 'collections', 'collections.abc', 'colorsys', 'compileall', 'concurrent.futures', 'configparser', 'contextlib', 'copy', 'copyreg', 'crypt', 'csv', 'ctypes', 'curses', 'curses.ascii', 'curses.panel', 'curses.textpad', 'datetime', 'dbm', 'dbm.dumb', 'dbm.gnu', 'dbm.ndbm', 'decimal', 'difflib', 'dis', 'distutils', 'distutils.archive_util', 'distutils.bcppcompiler', 'distutils.ccompiler', 'distutils.cmd', 'distutils.command', 'distutils.command.bdist', 'distutils.command.bdist_dumb', 'distutils.command.bdist_msi', 'distutils.command.bdist_packager', 'distutils.command.bdist_rpm', 'distutils.command.bdist_wininst', 'distutils.command.build', 'distutils.command.build_clib', 'distutils.command.build_ext', 'distutils.command.build_py', 'distutils.command.build_scripts', 'distutils.command.check', 'distutils.command.clean', 'distutils.command.config', 'distutils.command.install', 'distutils.command.install_data', 'distutils.command.install_headers', 'distutils.command.install_lib', 'distutils.command.install_scripts', 'distutils.command.register', 'distutils.command.sdist', 'distutils.core', 'distutils.cygwinccompiler', 'distutils.debug', 'distutils.dep_util', 'distutils.dir_util', 'distutils.dist', 'distutils.errors', 'distutils.extension', 'distutils.fancy_getopt', 'distutils.file_util', 'distutils.filelist', 'distutils.log', 'distutils.msvccompiler', 'distutils.spawn', 'distutils.sysconfig', 'distutils.text_file', 'distutils.unixccompiler', 'distutils.util', 'distutils.version', 'doctest', 'dummy_threading', 'email', 'email.charset', 'email.contentmanager', 'email.encoders', 'email.errors', 'email.generator', 'email.header', 'email.headerregistry', 'email.iterators', 'email.message', 'email.mime', 'email.parser', 'email.policy', 'email.utils', 'encodings.idna', 'encodings.mbcs', 'encodings.utf_8_sig', 'ensurepip', 'enum', 'errno', 'faulthandler', 'fcntl', 'filecmp', 'fileinput', 'fnmatch', 'formatter', 'fpectl', 'fractions', 'ftplib', 'functools', 'gc', 'getopt', 'getpass', 'gettext', 'glob', 'grp', 'gzip', 'hashlib', 'heapq', 'hmac', 'html', 'html.entities', 'html.parser', 'http', 'http.client', 'http.cookiejar', 'http.cookies', 'http.server', 'imaplib', 'imghdr', 'imp', 'importlib', 'importlib.abc', 'importlib.machinery', 'importlib.util', 'inspect', 'io', 'ipaddress', 'itertools', 'json', 'json.tool', 'keyword', 'lib2to3', 'linecache', 'locale', 'logging', 'logging.config', 'logging.handlers', 'lzma', 'macpath', 'mailbox', 'mailcap', 'marshal', 'math', 'mimetypes', 'mmap', 'modulefinder', 'msilib', 'msvcrt', 'multiprocessing', 'multiprocessing.connection', 'multiprocessing.dummy', 'multiprocessing.managers', 'multiprocessing.pool', 'multiprocessing.sharedctypes', 'netrc', 'nis', 'nntplib', 'numbers', 'operator', 'optparse', 'os', 'os.path', 'ossaudiodev', 'parser', 'pathlib', 'pdb', 'pickle', 'pickletools', 'pipes', 'pkgutil', 'platform', 'plistlib', 'poplib', 'posix', 'pprint', 'profile', 'pstats', 'pty', 'pwd', 'py_compile', 'pyclbr', 'pydoc', 'queue', 'quopri', 'random', 're', 'readline', 'reprlib', 'resource', 'rlcompleter', 'runpy', 'sched', 'select', 'selectors', 'shelve', 'shlex', 'shutil', 'signal', 'site', 'smtpd', 'smtplib', 'sndhdr', 'socket', 'socketserver', 'spwd', 'sqlite3', 'ssl', 'stat', 'statistics', 'string', 'stringprep', 'struct', 'subprocess', 'sunau', 'symbol', 'symtable', 'sys', 'sysconfig', 'syslog', 'tabnanny', 'tarfile', 'telnetlib', 'tempfile', 'termios', 'test', 'test.support', 'textwrap', 'threading', 'time', 'timeit', 'tkinter', 'tkinter.scrolledtext', 'tkinter.tix', 'tkinter.ttk', 'token', 'tokenize', 'trace', 'traceback', 'tracemalloc', 'tty', 'turtle', 'turtledemo', 'types', 'typing', 'unicodedata', 'unittest', 'unittest.mock', 'urllib', 'urllib.error', 'urllib.parse', 'urllib.request', 'urllib.response', 'urllib.robotparser', 'uu', 'uuid', 'venv', 'warnings', 'wave', 'weakref', 'webbrowser', 'winreg', 'winsound', 'wsgiref', 'wsgiref.handlers', 'wsgiref.headers', 'wsgiref.simple_server', 'wsgiref.util', 'wsgiref.validate', 'xdrlib', 'xml', 'xml.dom', 'xml.dom.minidom', 'xml.dom.pulldom', 'xml.etree.ElementTree', 'xml.parsers.expat', 'xml.parsers.expat.errors', 'xml.parsers.expat.model', 'xml.sax', 'xml.sax.handler', 'xml.sax.saxutils', 'xml.sax.xmlreader', 'xmlrpc.client', 'xmlrpc.server', 'zipapp', 'zipfile', 'zipimport', 'zlib']))"
   ]
  },
  {
   "cell_type": "code",
   "execution_count": 422,
   "metadata": {},
   "outputs": [],
   "source": [
    "# determine and count unique imports (built-ins excluded)\n",
    "imports_without_builtins = defaultdict(int)\n",
    "for imports in imports_df['imports']:\n",
    "    imports = set(lib.split('.')[0] for lib in imports if lib.split('.')[0] not in builtin_imports)\n",
    "    for lib in imports:\n",
    "        imports_without_builtins[lib] = imports_count.get(lib, 0) + 1"
   ]
  },
  {
   "cell_type": "code",
   "execution_count": 423,
   "metadata": {},
   "outputs": [
    {
     "name": "stdout",
     "output_type": "stream",
     "text": [
      "Got 38 unique libraries\n"
     ]
    }
   ],
   "source": [
    "# sort unique imports (built-ins excluded)\n",
    "sorted_imports_without_builtins = sorted(imports_without_builtins.items(), key=lambda itm: itm[1], reverse=True)\n",
    "print(f'Got {len(sorted_imports_without_builtins)} unique libraries')\n",
    "\n",
    "# create dataframe for sorted imports (built-ins excluded)\n",
    "sorted_imports_without_builtins = pd.DataFrame(sorted_imports_without_builtins, columns=['library', 'count'])"
   ]
  },
  {
   "cell_type": "code",
   "execution_count": 424,
   "metadata": {},
   "outputs": [
    {
     "data": {
      "image/png": "[encoded data removed]",
      "text/plain": [
       "<Figure size 1800x720 with 1 Axes>"
      ]
     },
     "metadata": {},
     "output_type": "display_data"
    }
   ],
   "source": [
    "# show distribution of imports per solution (built-ins excluded)\n",
    "plt.figure(figsize=(25,10))\n",
    "ax = sns.barplot(data=sorted_imports_without_builtins[:25], x='library', y='count', orient='v')\n",
    "ax.set_title('Most popular libraries (built-ins included)')\n",
    "ax.set_xlabel('Library')\n",
    "ax.set_ylabel('Number of submitted solcutions')\n",
    "plt.xticks(rotation=90)\n",
    "plt.show()"
   ]
  },
  {
   "cell_type": "code",
   "execution_count": 425,
   "metadata": {},
   "outputs": [],
   "source": [
    "# list of deep learning/ machine learning libraries\n",
    "ai_imports = ['torch', 'keras', 'tensorflow']\n",
    "\n",
    "# number of submitted solutions\n",
    "count_solutions = len(imports_df['imports'])\n",
    "\n",
    "# determine and count deep learning/ machine learning libraries \n",
    "ia_libraries = defaultdict(int)\n",
    "for imports in imports_df['imports']:\n",
    "    imports = set(lib.split('.')[0] for lib in imports if lib.split('.')[0] in ai_imports)\n",
    "    for lib in imports:\n",
    "        ia_libraries[lib] = imports_count.get(lib, 0) + 1"
   ]
  },
  {
   "cell_type": "code",
   "execution_count": 426,
   "metadata": {},
   "outputs": [
    {
     "data": {
      "text/html": [
       "<div>\n",
       "<style scoped>\n",
       "    .dataframe tbody tr th:only-of-type {\n",
       "        vertical-align: middle;\n",
       "    }\n",
       "\n",
       "    .dataframe tbody tr th {\n",
       "        vertical-align: top;\n",
       "    }\n",
       "\n",
       "    .dataframe thead th {\n",
       "        text-align: right;\n",
       "    }\n",
       "</style>\n",
       "<table border=\"1\" class=\"dataframe\">\n",
       "  <thead>\n",
       "    <tr style=\"text-align: right;\">\n",
       "      <th></th>\n",
       "      <th>library</th>\n",
       "      <th>count</th>\n",
       "    </tr>\n",
       "  </thead>\n",
       "  <tbody>\n",
       "    <tr>\n",
       "      <th>0</th>\n",
       "      <td>tensorflow</td>\n",
       "      <td>4</td>\n",
       "    </tr>\n",
       "    <tr>\n",
       "      <th>1</th>\n",
       "      <td>torch</td>\n",
       "      <td>4</td>\n",
       "    </tr>\n",
       "    <tr>\n",
       "      <th>2</th>\n",
       "      <td>keras</td>\n",
       "      <td>2</td>\n",
       "    </tr>\n",
       "  </tbody>\n",
       "</table>\n",
       "</div>"
      ],
      "text/plain": [
       "      library  count\n",
       "0  tensorflow      4\n",
       "1       torch      4\n",
       "2       keras      2"
      ]
     },
     "execution_count": 426,
     "metadata": {},
     "output_type": "execute_result"
    }
   ],
   "source": [
    "# sort deep learning/ machine learning libraries \n",
    "sorted_ai_libraries = sorted(ia_libraries.items(), key=lambda itm: itm[1], reverse=True)\n",
    "\n",
    "# sort deep learning/ machine learning libraries \n",
    "sorted_ai_libraries = pd.DataFrame(sorted_ai_libraries, columns=['library', 'count'])\n",
    "sorted_ai_libraries.head()"
   ]
  }
 ],
 "metadata": {
  "kernelspec": {
   "display_name": "Python 3",
   "language": "python",
   "name": "python3"
  },
  "language_info": {
   "codemirror_mode": {
    "name": "ipython",
    "version": 3
   },
   "file_extension": ".py",
   "mimetype": "text/x-python",
   "name": "python",
   "nbconvert_exporter": "python",
   "pygments_lexer": "ipython3",
   "version": "3.9.0"
  }
 },
 "nbformat": 4,
 "nbformat_minor": 4
}
